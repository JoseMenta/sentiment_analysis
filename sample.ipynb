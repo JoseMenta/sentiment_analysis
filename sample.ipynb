{
 "cells": [
  {
   "cell_type": "markdown",
   "id": "8a77807f92f26ee",
   "metadata": {},
   "source": [
    "# Sentiment analysis \n",
    "\n",
    "This is a jupyter notebook for a project to detect the sentiments of movie reviews."
   ]
  },
  {
   "cell_type": "code",
   "execution_count": 1,
   "id": "fbc121e30a2defb3",
   "metadata": {
    "ExecuteTime": {
     "end_time": "2024-09-18T22:28:14.753809Z",
     "start_time": "2024-09-18T22:26:57.337950Z"
    }
   },
   "outputs": [
    {
     "name": "stderr",
     "output_type": "stream",
     "text": [
      "2024-09-19 13:47:44.773806: I tensorflow/core/platform/cpu_feature_guard.cc:210] This TensorFlow binary is optimized to use available CPU instructions in performance-critical operations.\n",
      "To enable the following instructions: AVX2 FMA, in other operations, rebuild TensorFlow with the appropriate compiler flags.\n"
     ]
    }
   ],
   "source": [
    "import matplotlib.pyplot as plt\n",
    "import os\n",
    "import re\n",
    "import shutil\n",
    "import string\n",
    "import tensorflow as tf\n",
    "\n",
    "from tensorflow.keras import layers\n",
    "from tensorflow.keras import losses"
   ]
  },
  {
   "cell_type": "code",
   "execution_count": 2,
   "id": "4d6109c193390387",
   "metadata": {
    "ExecuteTime": {
     "end_time": "2024-09-18T22:38:20.640177Z",
     "start_time": "2024-09-18T22:38:20.635874Z"
    }
   },
   "outputs": [
    {
     "name": "stdout",
     "output_type": "stream",
     "text": [
      "hello world!\n"
     ]
    }
   ],
   "source": [
    "print('hello world!')"
   ]
  },
  {
   "cell_type": "code",
   "execution_count": 3,
   "id": "375ea8f669085f33",
   "metadata": {
    "ExecuteTime": {
     "end_time": "2024-09-18T22:38:17.122631Z",
     "start_time": "2024-09-18T22:38:17.118128Z"
    }
   },
   "outputs": [
    {
     "name": "stdout",
     "output_type": "stream",
     "text": [
      "2.16.2\n"
     ]
    }
   ],
   "source": [
    "print(tf.__version__)"
   ]
  },
  {
   "cell_type": "markdown",
   "id": "f0ca92c4d8e52647",
   "metadata": {},
   "source": [
    "## Import dataset\n",
    "We will use a dataset of movie reviews from IMDB, provided by [stanford university](https://ai.stanford.edu/~amaas/data/sentiment/aclImdb_v1.tar.gz).\n",
    "Then, we use the get_file function from keras (included in tensorflow) to download the dataset if it is not already in the cache_dir."
   ]
  },
  {
   "cell_type": "code",
   "execution_count": 4,
   "id": "131913021967422f",
   "metadata": {
    "ExecuteTime": {
     "end_time": "2024-09-18T22:45:28.967613Z",
     "start_time": "2024-09-18T22:43:38.076975Z"
    }
   },
   "outputs": [],
   "source": [
    "url = \"https://ai.stanford.edu/~amaas/data/sentiment/aclImdb_v1.tar.gz\"\n",
    "dataset = tf.keras.utils.get_file(\"aclImdb_v1\", url,\n",
    "                                  untar=True, cache_dir='data',\n",
    "                                  cache_subdir='')"
   ]
  },
  {
   "cell_type": "markdown",
   "id": "3256dece9b514514",
   "metadata": {},
   "source": [
    "We define variables for the directories where the data is stored. Directories contain a text file for each review, positive ones are in the \n",
    "_pos_ directory and negative are in the _neg_ directory."
   ]
  },
  {
   "cell_type": "code",
   "execution_count": 5,
   "id": "18170b4e61a89115",
   "metadata": {
    "ExecuteTime": {
     "end_time": "2024-09-18T23:00:16.017808Z",
     "start_time": "2024-09-18T23:00:16.013404Z"
    }
   },
   "outputs": [],
   "source": [
    "dataset_dir=os.path.join(os.path.dirname(dataset), 'aclImdb')\n",
    "train=os.path.join(dataset_dir,'train')\n",
    "test=os.path.join(dataset_dir,'test')"
   ]
  },
  {
   "cell_type": "markdown",
   "id": "b958e138e36c82ef",
   "metadata": {},
   "source": [
    "We will remove the _unsup_ directory in the train data, as we will use supervised learning for this project (and this will simplify data\n",
    "loading in the following step)"
   ]
  },
  {
   "cell_type": "code",
   "execution_count": 6,
   "id": "94211371c0869783",
   "metadata": {
    "ExecuteTime": {
     "end_time": "2024-09-18T22:59:38.405926Z",
     "start_time": "2024-09-18T22:59:26.408292Z"
    }
   },
   "outputs": [],
   "source": [
    "remove=os.path.join(train,'unsup')\n",
    "shutil.rmtree(remove)"
   ]
  },
  {
   "cell_type": "markdown",
   "id": "14abc96b709d8ae0",
   "metadata": {},
   "source": [
    "To load the data, we will use the _text_dataset_from_directory_ function in keras to load the data to memory. This function expect the \n",
    "structure \n",
    "```text\n",
    "dir/\n",
    "    class_1/\n",
    "        point_1.txt\n",
    "        point_2.txt\n",
    "    class_2/\n",
    "        point_1.txt\n",
    "        point_2.txt\n",
    "```\n",
    "which is conveniently followed by the dataset. In this case, neg will have the label 0 and pos the label 1. \n",
    "The dataset will be loaded in batches of 32 points (so it will yield groups of 32 points on each iteration) and the value 40 is used\n",
    "as a random seed for shuffling. It also will reserve 20% of the dataset for validation (used to tune hyperparameters)"
   ]
  },
  {
   "cell_type": "code",
   "execution_count": 7,
   "id": "fdc1e4830e17184b",
   "metadata": {
    "ExecuteTime": {
     "end_time": "2024-09-18T23:07:21.893944Z",
     "start_time": "2024-09-18T23:07:19.820914Z"
    }
   },
   "outputs": [
    {
     "name": "stdout",
     "output_type": "stream",
     "text": [
      "Found 25000 files belonging to 2 classes.\n",
      "Using 20000 files for training.\n"
     ]
    }
   ],
   "source": [
    "batch_size = 32\n",
    "seed = 40\n",
    "\n",
    "raw_training_ds = tf.keras.utils.text_dataset_from_directory(\n",
    "    train,\n",
    "    batch_size=batch_size,\n",
    "    validation_split=0.2,\n",
    "    subset='training',\n",
    "    seed=seed)"
   ]
  },
  {
   "cell_type": "code",
   "execution_count": 8,
   "id": "74a49916b91b7571",
   "metadata": {
    "ExecuteTime": {
     "end_time": "2024-09-18T23:08:59.714789Z",
     "start_time": "2024-09-18T23:08:59.710273Z"
    }
   },
   "outputs": [
    {
     "name": "stdout",
     "output_type": "stream",
     "text": [
      "Label 0 corresponds to neg\n",
      "Label 1 corresponds to pos\n"
     ]
    }
   ],
   "source": [
    "print(\"Label 0 corresponds to\", raw_training_ds.class_names[0])\n",
    "print(\"Label 1 corresponds to\", raw_training_ds.class_names[1])"
   ]
  },
  {
   "cell_type": "code",
   "execution_count": 9,
   "id": "a59143cd309656e2",
   "metadata": {},
   "outputs": [
    {
     "name": "stdout",
     "output_type": "stream",
     "text": [
      "Found 25000 files belonging to 2 classes.\n",
      "Using 5000 files for validation.\n"
     ]
    }
   ],
   "source": [
    "raw_validation_ds = tf.keras.utils.text_dataset_from_directory(\n",
    "    train,\n",
    "    batch_size=batch_size,\n",
    "    validation_split=0.2,\n",
    "    subset='validation',\n",
    "    seed=seed)"
   ]
  },
  {
   "cell_type": "code",
   "execution_count": 10,
   "id": "9dc29fc4",
   "metadata": {},
   "outputs": [
    {
     "name": "stdout",
     "output_type": "stream",
     "text": [
      "Found 25000 files belonging to 2 classes.\n"
     ]
    }
   ],
   "source": [
    "raw_testing_ds = tf.keras.utils.text_dataset_from_directory(\n",
    "    test,\n",
    "    batch_size=batch_size)\n"
   ]
  },
  {
   "cell_type": "markdown",
   "id": "6aa7a1fe",
   "metadata": {},
   "source": []
  },
  {
   "cell_type": "code",
   "execution_count": 11,
   "id": "3d44e84f",
   "metadata": {},
   "outputs": [],
   "source": [
    "def custom_standardization(input_data):\n",
    "  lowercase = tf.strings.lower(input_data)\n",
    "  stripped_html = tf.strings.regex_replace(lowercase, '<br />', ' ')\n",
    "  return tf.strings.regex_replace(stripped_html,\n",
    "                                  '[%s]' % re.escape(string.punctuation),\n",
    "                                  '')"
   ]
  },
  {
   "cell_type": "code",
   "execution_count": 12,
   "id": "00a36629",
   "metadata": {},
   "outputs": [],
   "source": [
    "max_features = 10000\n",
    "sequence_length = 250\n",
    "\n",
    "#TODO: use glove embeddings\n",
    "\n",
    "vectorize_layer = layers.TextVectorization(\n",
    "    standardize=custom_standardization, #A function that is called for each input to standarize it\n",
    "    max_tokens=max_features, #maximum size of the vocabulary (it will have the \"top max_features\" words)\n",
    "    output_mode='int', #return an int for each word\n",
    "    output_sequence_length=sequence_length #TODO check!\n",
    "    )"
   ]
  },
  {
   "cell_type": "code",
   "execution_count": 13,
   "id": "649e7ddc",
   "metadata": {},
   "outputs": [
    {
     "name": "stderr",
     "output_type": "stream",
     "text": [
      "2024-09-19 13:48:58.779515: W tensorflow/core/framework/local_rendezvous.cc:404] Local rendezvous is aborting with status: OUT_OF_RANGE: End of sequence\n"
     ]
    }
   ],
   "source": [
    "# Make a text-only dataset (without labels), then call adapt\n",
    "train_text = raw_training_ds.map(lambda x, y: x)\n",
    "#build a vocabulary of all tokens in the dataset\n",
    "vectorize_layer.adapt(train_text) "
   ]
  },
  {
   "cell_type": "code",
   "execution_count": 14,
   "id": "8fa8bb52",
   "metadata": {},
   "outputs": [],
   "source": [
    "def vectorize_text(text, label):\n",
    "  print('previous expansion', vectorize_layer(text))\n",
    "  text = tf.expand_dims(text, -1)\n",
    "  return vectorize_layer(text), label"
   ]
  },
  {
   "cell_type": "code",
   "execution_count": 15,
   "id": "b46602f1",
   "metadata": {},
   "outputs": [
    {
     "name": "stdout",
     "output_type": "stream",
     "text": [
      "Review tf.Tensor(b'I still liked it though. Warren Beatty is only fair as the comic book hero. What saves this movie is the set, the incredible cast and it offshoots a mediocre script. I really expected something more substantial in the terms of action, or plot but I got very little. The main reason to watch this movie is to watch some of the biggest stars in Hollywood at the time in such an unusual film. <br /><br />The one person who did a terrible job and did not even belong in this film was Madonna. She did not belong in this movie and her acting job was pretty bad. The movie at some points just stood still. You expected something more and you got nothing. Al Pacino plays a really bad dude and he does pretty good. He and Beatty do make an excellent good guy and bad guy. <br /><br />It is also interesting to see Dustin Hoffman, and Warren Beatty in a film other than Isthar. I did not see Ishtar but I heard bad things. The thing about this movie is it is good, but it could have been so much better. I liked it as a child because I thought it looked cool, and visually the movie is amazing, the sets are incredible, the writing is only fair, and with such a cast in the movie I would expect a little better anyway. <br /><br />SPOILER<br /><br />I especially thought the finale was not big enough. It was interesting but for such a grand scale film I just thought it could have ended with a little more of a bang. The reason to watch this movie is the atmosphere. The movie only uses the 7 comic book colors making it all that more excellent visually anyway.<br /><br />The costumes and makeup were flawless as well. The facial makeup for the villains was great. Beatty is just not up to such a bigger than life character. Still, this is a good movie that could have been much much more. It is to me better than Batman, the other comic book adaptation that came out close to the same time. Of course that movie was much bigger in terms of gross.', shape=(), dtype=string)\n",
      "Label pos\n",
      "previous expansion tf.Tensor(\n",
      "[  10  125  406    9  147 4041 4818    7   61 1214   14    2  734  271\n",
      "  657   48 2999   11   17    7    2  274    2 1007  173    4    9    1\n",
      "    3 1464  224   10   60  851  139   50 7346    8    2 1252    5  213\n",
      "   40  111   18   10  180   52  109    2  279  269    6  103   11   17\n",
      "    7    6  103   46    5    2 1085  384    8  353   30    2   59    8\n",
      "  136   33 1652   19    2   28  405   36  116    3  388  283    4  116\n",
      "   21   54 5110    8   11   19   13 4399   53  116   21 5110    8   11\n",
      "   17    4   39  112  283   13  178   83    2   17   30   46  749   41\n",
      " 3341  125   22  851  139   50    4   22  180  154 1496 2669  286    3\n",
      "   60   83 2545    4   27  121  178   49   27    4 4818   79   95   33\n",
      "  312   49  227    4   83  227    9    7   81  214    6   65 6813 2688\n",
      "    4 4041 4818    8    3   19   80   70    1   10  116   21   65    1\n",
      "   18   10  551   83  181    2  150   42   11   17    7    9    7   49\n",
      "   18    9   97   25   74   37   72  123   10  406    9   14    3  511\n",
      "   82   10  199    9  602  642    4 1881    2   17    7  477    2  709\n",
      "   23 1007    2  488    7   61 1214    4   16  136    3  173    8    2\n",
      "   17   10   58  517    3  109  123  554 1273   10  257  199    2 1917\n",
      "   13   21  195  189    9   13  214   18   15  136    3 1739], shape=(250,), dtype=int64)\n",
      "Vectorized review (<tf.Tensor: shape=(1, 250), dtype=int64, numpy=\n",
      "array([[  10,  125,  406,    9,  147, 4041, 4818,    7,   61, 1214,   14,\n",
      "           2,  734,  271,  657,   48, 2999,   11,   17,    7,    2,  274,\n",
      "           2, 1007,  173,    4,    9,    1,    3, 1464,  224,   10,   60,\n",
      "         851,  139,   50, 7346,    8,    2, 1252,    5,  213,   40,  111,\n",
      "          18,   10,  180,   52,  109,    2,  279,  269,    6,  103,   11,\n",
      "          17,    7,    6,  103,   46,    5,    2, 1085,  384,    8,  353,\n",
      "          30,    2,   59,    8,  136,   33, 1652,   19,    2,   28,  405,\n",
      "          36,  116,    3,  388,  283,    4,  116,   21,   54, 5110,    8,\n",
      "          11,   19,   13, 4399,   53,  116,   21, 5110,    8,   11,   17,\n",
      "           4,   39,  112,  283,   13,  178,   83,    2,   17,   30,   46,\n",
      "         749,   41, 3341,  125,   22,  851,  139,   50,    4,   22,  180,\n",
      "         154, 1496, 2669,  286,    3,   60,   83, 2545,    4,   27,  121,\n",
      "         178,   49,   27,    4, 4818,   79,   95,   33,  312,   49,  227,\n",
      "           4,   83,  227,    9,    7,   81,  214,    6,   65, 6813, 2688,\n",
      "           4, 4041, 4818,    8,    3,   19,   80,   70,    1,   10,  116,\n",
      "          21,   65,    1,   18,   10,  551,   83,  181,    2,  150,   42,\n",
      "          11,   17,    7,    9,    7,   49,   18,    9,   97,   25,   74,\n",
      "          37,   72,  123,   10,  406,    9,   14,    3,  511,   82,   10,\n",
      "         199,    9,  602,  642,    4, 1881,    2,   17,    7,  477,    2,\n",
      "         709,   23, 1007,    2,  488,    7,   61, 1214,    4,   16,  136,\n",
      "           3,  173,    8,    2,   17,   10,   58,  517,    3,  109,  123,\n",
      "         554, 1273,   10,  257,  199,    2, 1917,   13,   21,  195,  189,\n",
      "           9,   13,  214,   18,   15,  136,    3, 1739]])>, <tf.Tensor: shape=(), dtype=int32, numpy=1>)\n"
     ]
    }
   ],
   "source": [
    "# retrieve a batch (of 32 reviews and labels) from the dataset\n",
    "text_batch, label_batch = next(iter(raw_training_ds))\n",
    "first_review, first_label = text_batch[0], label_batch[0]\n",
    "print(\"Review\", first_review)\n",
    "print(\"Label\", raw_training_ds.class_names[first_label])\n",
    "print(\"Vectorized review\", vectorize_text(first_review, first_label))"
   ]
  },
  {
   "cell_type": "code",
   "execution_count": 17,
   "id": "5f06cdf1",
   "metadata": {},
   "outputs": [
    {
     "name": "stdout",
     "output_type": "stream",
     "text": [
      "previous expansion Tensor(\"text_vectorization_1/Pad:0\", shape=(None, None), dtype=int64)\n",
      "previous expansion Tensor(\"text_vectorization_1/Pad:0\", shape=(None, None), dtype=int64)\n",
      "previous expansion Tensor(\"text_vectorization_1/Pad:0\", shape=(None, None), dtype=int64)\n"
     ]
    }
   ],
   "source": [
    "train_ds = raw_training_ds.map(vectorize_text)\n",
    "val_ds = raw_validation_ds.map(vectorize_text)\n",
    "test_ds = raw_testing_ds.map(vectorize_text)"
   ]
  },
  {
   "cell_type": "code",
   "execution_count": 18,
   "metadata": {},
   "outputs": [],
   "source": [
    "autotune = tf.data.AUTOTUNE #dynamically change buffer size\n",
    "train_ds = train_ds.cache().prefetch(buffer_size=autotune)\n",
    "val_ds = val_ds.cache().prefetch(buffer_size=autotune)\n",
    "test_ds = test_ds.cache().prefetch(buffer_size=autotune)"
   ]
  },
  {
   "cell_type": "markdown",
   "id": "386b1602",
   "metadata": {},
   "source": [
    "# The neural network"
   ]
  },
  {
   "cell_type": "code",
   "execution_count": 19,
   "id": "2c49807f",
   "metadata": {},
   "outputs": [
    {
     "data": {
      "text/html": [
       "<pre style=\"white-space:pre;overflow-x:auto;line-height:normal;font-family:Menlo,'DejaVu Sans Mono',consolas,'Courier New',monospace\"><span style=\"font-weight: bold\">Model: \"sequential\"</span>\n",
       "</pre>\n"
      ],
      "text/plain": [
       "\u001b[1mModel: \"sequential\"\u001b[0m\n"
      ]
     },
     "metadata": {},
     "output_type": "display_data"
    },
    {
     "data": {
      "text/html": [
       "<pre style=\"white-space:pre;overflow-x:auto;line-height:normal;font-family:Menlo,'DejaVu Sans Mono',consolas,'Courier New',monospace\">┏━━━━━━━━━━━━━━━━━━━━━━━━━━━━━━━━━┳━━━━━━━━━━━━━━━━━━━━━━━━┳━━━━━━━━━━━━━━━┓\n",
       "┃<span style=\"font-weight: bold\"> Layer (type)                    </span>┃<span style=\"font-weight: bold\"> Output Shape           </span>┃<span style=\"font-weight: bold\">       Param # </span>┃\n",
       "┡━━━━━━━━━━━━━━━━━━━━━━━━━━━━━━━━━╇━━━━━━━━━━━━━━━━━━━━━━━━╇━━━━━━━━━━━━━━━┩\n",
       "│ embedding (<span style=\"color: #0087ff; text-decoration-color: #0087ff\">Embedding</span>)           │ ?                      │   <span style=\"color: #00af00; text-decoration-color: #00af00\">0</span> (unbuilt) │\n",
       "├─────────────────────────────────┼────────────────────────┼───────────────┤\n",
       "│ dropout (<span style=\"color: #0087ff; text-decoration-color: #0087ff\">Dropout</span>)               │ ?                      │   <span style=\"color: #00af00; text-decoration-color: #00af00\">0</span> (unbuilt) │\n",
       "├─────────────────────────────────┼────────────────────────┼───────────────┤\n",
       "│ global_average_pooling1d        │ ?                      │   <span style=\"color: #00af00; text-decoration-color: #00af00\">0</span> (unbuilt) │\n",
       "│ (<span style=\"color: #0087ff; text-decoration-color: #0087ff\">GlobalAveragePooling1D</span>)        │                        │               │\n",
       "├─────────────────────────────────┼────────────────────────┼───────────────┤\n",
       "│ dropout_1 (<span style=\"color: #0087ff; text-decoration-color: #0087ff\">Dropout</span>)             │ ?                      │   <span style=\"color: #00af00; text-decoration-color: #00af00\">0</span> (unbuilt) │\n",
       "├─────────────────────────────────┼────────────────────────┼───────────────┤\n",
       "│ dense (<span style=\"color: #0087ff; text-decoration-color: #0087ff\">Dense</span>)                   │ ?                      │   <span style=\"color: #00af00; text-decoration-color: #00af00\">0</span> (unbuilt) │\n",
       "└─────────────────────────────────┴────────────────────────┴───────────────┘\n",
       "</pre>\n"
      ],
      "text/plain": [
       "┏━━━━━━━━━━━━━━━━━━━━━━━━━━━━━━━━━┳━━━━━━━━━━━━━━━━━━━━━━━━┳━━━━━━━━━━━━━━━┓\n",
       "┃\u001b[1m \u001b[0m\u001b[1mLayer (type)                   \u001b[0m\u001b[1m \u001b[0m┃\u001b[1m \u001b[0m\u001b[1mOutput Shape          \u001b[0m\u001b[1m \u001b[0m┃\u001b[1m \u001b[0m\u001b[1m      Param #\u001b[0m\u001b[1m \u001b[0m┃\n",
       "┡━━━━━━━━━━━━━━━━━━━━━━━━━━━━━━━━━╇━━━━━━━━━━━━━━━━━━━━━━━━╇━━━━━━━━━━━━━━━┩\n",
       "│ embedding (\u001b[38;5;33mEmbedding\u001b[0m)           │ ?                      │   \u001b[38;5;34m0\u001b[0m (unbuilt) │\n",
       "├─────────────────────────────────┼────────────────────────┼───────────────┤\n",
       "│ dropout (\u001b[38;5;33mDropout\u001b[0m)               │ ?                      │   \u001b[38;5;34m0\u001b[0m (unbuilt) │\n",
       "├─────────────────────────────────┼────────────────────────┼───────────────┤\n",
       "│ global_average_pooling1d        │ ?                      │   \u001b[38;5;34m0\u001b[0m (unbuilt) │\n",
       "│ (\u001b[38;5;33mGlobalAveragePooling1D\u001b[0m)        │                        │               │\n",
       "├─────────────────────────────────┼────────────────────────┼───────────────┤\n",
       "│ dropout_1 (\u001b[38;5;33mDropout\u001b[0m)             │ ?                      │   \u001b[38;5;34m0\u001b[0m (unbuilt) │\n",
       "├─────────────────────────────────┼────────────────────────┼───────────────┤\n",
       "│ dense (\u001b[38;5;33mDense\u001b[0m)                   │ ?                      │   \u001b[38;5;34m0\u001b[0m (unbuilt) │\n",
       "└─────────────────────────────────┴────────────────────────┴───────────────┘\n"
      ]
     },
     "metadata": {},
     "output_type": "display_data"
    },
    {
     "data": {
      "text/html": [
       "<pre style=\"white-space:pre;overflow-x:auto;line-height:normal;font-family:Menlo,'DejaVu Sans Mono',consolas,'Courier New',monospace\"><span style=\"font-weight: bold\"> Total params: </span><span style=\"color: #00af00; text-decoration-color: #00af00\">0</span> (0.00 B)\n",
       "</pre>\n"
      ],
      "text/plain": [
       "\u001b[1m Total params: \u001b[0m\u001b[38;5;34m0\u001b[0m (0.00 B)\n"
      ]
     },
     "metadata": {},
     "output_type": "display_data"
    },
    {
     "data": {
      "text/html": [
       "<pre style=\"white-space:pre;overflow-x:auto;line-height:normal;font-family:Menlo,'DejaVu Sans Mono',consolas,'Courier New',monospace\"><span style=\"font-weight: bold\"> Trainable params: </span><span style=\"color: #00af00; text-decoration-color: #00af00\">0</span> (0.00 B)\n",
       "</pre>\n"
      ],
      "text/plain": [
       "\u001b[1m Trainable params: \u001b[0m\u001b[38;5;34m0\u001b[0m (0.00 B)\n"
      ]
     },
     "metadata": {},
     "output_type": "display_data"
    },
    {
     "data": {
      "text/html": [
       "<pre style=\"white-space:pre;overflow-x:auto;line-height:normal;font-family:Menlo,'DejaVu Sans Mono',consolas,'Courier New',monospace\"><span style=\"font-weight: bold\"> Non-trainable params: </span><span style=\"color: #00af00; text-decoration-color: #00af00\">0</span> (0.00 B)\n",
       "</pre>\n"
      ],
      "text/plain": [
       "\u001b[1m Non-trainable params: \u001b[0m\u001b[38;5;34m0\u001b[0m (0.00 B)\n"
      ]
     },
     "metadata": {},
     "output_type": "display_data"
    }
   ],
   "source": [
    "embedding_dim = 16 \n",
    "\n",
    "\n",
    "model = tf.keras.Sequential([\n",
    "  layers.Embedding(max_features + 1, embedding_dim), #transform the word index into a vector of dimension embedding_dim (16)\n",
    "  layers.Dropout(0.2), # prevent overfitting\n",
    "  layers.GlobalAveragePooling1D(), #Do an average of all the embeddings in the review to get one output (TODO: change to LSTM)\n",
    "  layers.Dropout(0.2),\n",
    "  layers.Dense(1)])\n",
    "\n",
    "model.summary()"
   ]
  },
  {
   "cell_type": "code",
   "execution_count": 20,
   "metadata": {},
   "outputs": [],
   "source": [
    "model.compile(loss=losses.BinaryCrossentropy(),\n",
    "              optimizer='adam',\n",
    "              metrics=[tf.metrics.BinaryAccuracy(threshold=0.5)])"
   ]
  },
  {
   "cell_type": "markdown",
   "metadata": {},
   "source": [
    "# Training"
   ]
  },
  {
   "cell_type": "code",
   "execution_count": 21,
   "metadata": {},
   "outputs": [
    {
     "name": "stdout",
     "output_type": "stream",
     "text": [
      "Epoch 1/10\n",
      "\u001b[1m625/625\u001b[0m \u001b[32m━━━━━━━━━━━━━━━━━━━━\u001b[0m\u001b[37m\u001b[0m \u001b[1m7s\u001b[0m 8ms/step - binary_accuracy: 0.5462 - loss: 0.8015 - val_binary_accuracy: 0.7532 - val_loss: 0.6080\n",
      "Epoch 2/10\n",
      "\u001b[1m625/625\u001b[0m \u001b[32m━━━━━━━━━━━━━━━━━━━━\u001b[0m\u001b[37m\u001b[0m \u001b[1m3s\u001b[0m 4ms/step - binary_accuracy: 0.7315 - loss: 0.5806 - val_binary_accuracy: 0.8372 - val_loss: 0.4661\n",
      "Epoch 3/10\n",
      "\u001b[1m625/625\u001b[0m \u001b[32m━━━━━━━━━━━━━━━━━━━━\u001b[0m\u001b[37m\u001b[0m \u001b[1m3s\u001b[0m 5ms/step - binary_accuracy: 0.8223 - loss: 0.4499 - val_binary_accuracy: 0.8536 - val_loss: 0.4020\n",
      "Epoch 4/10\n",
      "\u001b[1m625/625\u001b[0m \u001b[32m━━━━━━━━━━━━━━━━━━━━\u001b[0m\u001b[37m\u001b[0m \u001b[1m2s\u001b[0m 4ms/step - binary_accuracy: 0.8585 - loss: 0.3909 - val_binary_accuracy: 0.8702 - val_loss: 0.4007\n",
      "Epoch 5/10\n",
      "\u001b[1m625/625\u001b[0m \u001b[32m━━━━━━━━━━━━━━━━━━━━\u001b[0m\u001b[37m\u001b[0m \u001b[1m2s\u001b[0m 4ms/step - binary_accuracy: 0.8685 - loss: 0.3647 - val_binary_accuracy: 0.8784 - val_loss: 0.3945\n",
      "Epoch 6/10\n",
      "\u001b[1m625/625\u001b[0m \u001b[32m━━━━━━━━━━━━━━━━━━━━\u001b[0m\u001b[37m\u001b[0m \u001b[1m2s\u001b[0m 4ms/step - binary_accuracy: 0.8357 - loss: 0.7393 - val_binary_accuracy: 0.8778 - val_loss: 0.4163\n",
      "Epoch 7/10\n",
      "\u001b[1m625/625\u001b[0m \u001b[32m━━━━━━━━━━━━━━━━━━━━\u001b[0m\u001b[37m\u001b[0m \u001b[1m2s\u001b[0m 4ms/step - binary_accuracy: 0.8904 - loss: 0.3198 - val_binary_accuracy: 0.6330 - val_loss: 4.8434\n",
      "Epoch 8/10\n",
      "\u001b[1m625/625\u001b[0m \u001b[32m━━━━━━━━━━━━━━━━━━━━\u001b[0m\u001b[37m\u001b[0m \u001b[1m3s\u001b[0m 4ms/step - binary_accuracy: 0.7734 - loss: 2.1081 - val_binary_accuracy: 0.8842 - val_loss: 0.3998\n",
      "Epoch 9/10\n",
      "\u001b[1m625/625\u001b[0m \u001b[32m━━━━━━━━━━━━━━━━━━━━\u001b[0m\u001b[37m\u001b[0m \u001b[1m2s\u001b[0m 4ms/step - binary_accuracy: 0.9021 - loss: 0.2705 - val_binary_accuracy: 0.8850 - val_loss: 0.4010\n",
      "Epoch 10/10\n",
      "\u001b[1m625/625\u001b[0m \u001b[32m━━━━━━━━━━━━━━━━━━━━\u001b[0m\u001b[37m\u001b[0m \u001b[1m2s\u001b[0m 4ms/step - binary_accuracy: 0.8910 - loss: 0.3789 - val_binary_accuracy: 0.8764 - val_loss: 0.4204\n"
     ]
    }
   ],
   "source": [
    "epochs = 10\n",
    "history = model.fit(\n",
    "    train_ds,\n",
    "    validation_data=val_ds,\n",
    "    epochs=epochs)"
   ]
  },
  {
   "cell_type": "markdown",
   "metadata": {},
   "source": [
    "Test model"
   ]
  },
  {
   "cell_type": "code",
   "execution_count": 22,
   "metadata": {},
   "outputs": [
    {
     "name": "stdout",
     "output_type": "stream",
     "text": [
      "\u001b[1m782/782\u001b[0m \u001b[32m━━━━━━━━━━━━━━━━━━━━\u001b[0m\u001b[37m\u001b[0m \u001b[1m2s\u001b[0m 3ms/step - binary_accuracy: 0.8557 - loss: 0.4661\n",
      "Loss:  0.4553247392177582\n",
      "Accuracy:  0.8552799820899963\n"
     ]
    }
   ],
   "source": [
    "loss, accuracy = model.evaluate(test_ds)\n",
    "\n",
    "print(\"Loss: \", loss)\n",
    "print(\"Accuracy: \", accuracy)"
   ]
  }
 ],
 "metadata": {
  "kernelspec": {
   "display_name": "Python 3 (ipykernel)",
   "language": "python",
   "name": "python3"
  },
  "language_info": {
   "codemirror_mode": {
    "name": "ipython",
    "version": 3
   },
   "file_extension": ".py",
   "mimetype": "text/x-python",
   "name": "python",
   "nbconvert_exporter": "python",
   "pygments_lexer": "ipython3",
   "version": "3.12.5"
  }
 },
 "nbformat": 4,
 "nbformat_minor": 5
}
